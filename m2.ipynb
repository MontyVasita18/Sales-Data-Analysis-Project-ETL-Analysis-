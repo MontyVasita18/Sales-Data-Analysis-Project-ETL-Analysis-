{
 "cells": [
  {
   "cell_type": "markdown",
   "metadata": {},
   "source": [
    "**1. Merge orders with customers**  \n",
    "merged_df = orders.merge(customers, on='CustomerID', how='left')\n",
    "\n",
    "**2. Merge with employees**  \n",
    "merged_df = merged_df.merge(employees, on='EmployeeID', how='left')\n",
    "\n",
    "**3. Merge with products**  \n",
    "merged_df = merged_df.merge(products, on='ProductID', how='left')\n",
    "\n",
    "**4. Merge with suppliers**  \n",
    "merged_df = merged_df.merge(suppliers, on='SupplierID', how='left')\n",
    "\n",
    "Now merged_df contains the combined data from all tables\n",
    "merged_df.head()"
   ]
  },
  {
   "cell_type": "code",
   "execution_count": null,
   "metadata": {},
   "outputs": [],
   "source": []
  }
 ],
 "metadata": {
  "kernelspec": {
   "display_name": "Python 3.12.1 64-bit",
   "language": "python",
   "name": "python3"
  },
  "language_info": {
   "name": "python",
   "version": "3.12.1"
  },
  "orig_nbformat": 4,
  "vscode": {
   "interpreter": {
    "hash": "3fcbd7240ee8f908d933dc7f71e8c42a1a91163b70ede8dcff5146d4087436c7"
   }
  }
 },
 "nbformat": 4,
 "nbformat_minor": 2
}
